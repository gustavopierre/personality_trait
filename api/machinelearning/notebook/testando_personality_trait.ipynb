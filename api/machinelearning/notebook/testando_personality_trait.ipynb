{
  "cells": [
    {
      "cell_type": "code",
      "execution_count": 1,
      "metadata": {
        "id": "k7u2JWuPEwpj"
      },
      "outputs": [],
      "source": [
        "# prompt: adicione a importacao das bibliotecas para usar a celula abaixo\n",
        "\n",
        "import pandas as pd\n",
        "import numpy as np\n",
        "import pickle\n"
      ]
    },
    {
      "cell_type": "code",
      "execution_count": null,
      "metadata": {
        "colab": {
          "base_uri": "https://localhost:8080/"
        },
        "id": "n1TCwuSUEXy5",
        "outputId": "108e5d4f-2b2b-4141-bbce-88d8314e315b"
      },
      "outputs": [
        {
          "name": "stdout",
          "output_type": "stream",
          "text": [
            "Previsões para dados não vistos: [0. 1. 1. 1. 1. 1. 1. 1.]\n"
          ]
        }
      ],
      "source": [
        "# Carregando o pipeline salvo\n",
        "pipeline_filename = 'et_personality_trait_pipeline.pkl'\n",
        "with open(\"../models/\" + pipeline_filename, 'rb') as file:\n",
        "    loaded_pipeline = pickle.load(file)\n",
        "\n",
        "# Criando dados de exemplo para simular dados não vistos\n",
        "# Substitua com os seus dados de exemplo\n",
        "# Os dados de exemplo devem ter o mesmo formato (número de colunas/features)\n",
        "# que os dados de treino originais.\n",
        "# Exemplo: 7 features para prever se é extrovertido ou introvertido\n",
        "# Aqui, estou criando um exemplo simples com valores aleatórios.\n",
        "data_not_seen = np.array([\n",
        "    [0.0,0,4.0,7.0,0,13.0,4.0],\n",
        "    [2.0, 5.0, 1.0, 4.0, 5.0, 2.0, 1.0],\n",
        "    [4, 4, 4, 4, 4, 4, 4],\n",
        "    [1, 2, 3, 4, 5, 6, 7],\n",
        "    [7, 6, 5, 4, 3, 2, 1],\n",
        "    [3, 3, 3, 3, 3, 3, 3],\n",
        "    [6, 1, 5, 2, 4, 3, 7],\n",
        "    [1, 7, 2, 6, 3, 5, 4]\n",
        "])\n",
        "\n",
        "# Aplicando o pipeline nos dados não vistos para fazer previsões\n",
        "predictions_not_seen = loaded_pipeline.predict(data_not_seen)\n",
        "\n",
        "print(\"Previsões para dados não vistos:\", predictions_not_seen)"
      ]
    }
  ],
  "metadata": {
    "colab": {
      "provenance": []
    },
    "kernelspec": {
      "display_name": "Python 3",
      "name": "python3"
    },
    "language_info": {
      "codemirror_mode": {
        "name": "ipython",
        "version": 3
      },
      "file_extension": ".py",
      "mimetype": "text/x-python",
      "name": "python",
      "nbconvert_exporter": "python",
      "pygments_lexer": "ipython3",
      "version": "3.13.3"
    }
  },
  "nbformat": 4,
  "nbformat_minor": 0
}
